{
 "cells": [
  {
   "cell_type": "code",
   "execution_count": 1,
   "metadata": {},
   "outputs": [],
   "source": [
    "import numpy as np\n",
    "import pandas as pd"
   ]
  },
  {
   "cell_type": "code",
   "execution_count": 2,
   "metadata": {},
   "outputs": [],
   "source": [
    "df = pd.read_csv(\"/workspace code/python/Projects/us accidents/us-accidents/US_Accidents_March23.csv\")"
   ]
  },
  {
   "cell_type": "markdown",
   "metadata": {},
   "source": [
    "### general information"
   ]
  },
  {
   "cell_type": "code",
   "execution_count": 3,
   "metadata": {},
   "outputs": [
    {
     "data": {
      "text/plain": [
       "Index(['ID', 'Source', 'Severity', 'Start_Time', 'End_Time', 'Start_Lat',\n",
       "       'Start_Lng', 'End_Lat', 'End_Lng', 'Distance(mi)', 'Description',\n",
       "       'Street', 'City', 'County', 'State', 'Zipcode', 'Country', 'Timezone',\n",
       "       'Airport_Code', 'Weather_Timestamp', 'Temperature(F)', 'Wind_Chill(F)',\n",
       "       'Humidity(%)', 'Pressure(in)', 'Visibility(mi)', 'Wind_Direction',\n",
       "       'Wind_Speed(mph)', 'Precipitation(in)', 'Weather_Condition', 'Amenity',\n",
       "       'Bump', 'Crossing', 'Give_Way', 'Junction', 'No_Exit', 'Railway',\n",
       "       'Roundabout', 'Station', 'Stop', 'Traffic_Calming', 'Traffic_Signal',\n",
       "       'Turning_Loop', 'Sunrise_Sunset', 'Civil_Twilight', 'Nautical_Twilight',\n",
       "       'Astronomical_Twilight'],\n",
       "      dtype='object')"
      ]
     },
     "execution_count": 3,
     "metadata": {},
     "output_type": "execute_result"
    }
   ],
   "source": [
    "df.columns"
   ]
  },
  {
   "cell_type": "code",
   "execution_count": 4,
   "metadata": {},
   "outputs": [
    {
     "data": {
      "text/plain": [
       "End_Lat                  3402762\n",
       "End_Lng                  3402762\n",
       "Precipitation(in)        2203586\n",
       "Wind_Chill(F)            1999019\n",
       "Wind_Speed(mph)           571233\n",
       "Visibility(mi)            177098\n",
       "Wind_Direction            175206\n",
       "Humidity(%)               174144\n",
       "Weather_Condition         173459\n",
       "Temperature(F)            163853\n",
       "Pressure(in)              140679\n",
       "Weather_Timestamp         120228\n",
       "Nautical_Twilight          23246\n",
       "Civil_Twilight             23246\n",
       "Sunrise_Sunset             23246\n",
       "Astronomical_Twilight      23246\n",
       "Airport_Code               22635\n",
       "Street                     10869\n",
       "Timezone                    7808\n",
       "Zipcode                     1915\n",
       "City                         253\n",
       "Description                    5\n",
       "Traffic_Signal                 0\n",
       "Roundabout                     0\n",
       "Station                        0\n",
       "Stop                           0\n",
       "Traffic_Calming                0\n",
       "Country                        0\n",
       "Turning_Loop                   0\n",
       "No_Exit                        0\n",
       "End_Time                       0\n",
       "Start_Time                     0\n",
       "Severity                       0\n",
       "Railway                        0\n",
       "Crossing                       0\n",
       "Junction                       0\n",
       "Give_Way                       0\n",
       "Bump                           0\n",
       "Amenity                        0\n",
       "Start_Lat                      0\n",
       "Start_Lng                      0\n",
       "Distance(mi)                   0\n",
       "Source                         0\n",
       "County                         0\n",
       "State                          0\n",
       "ID                             0\n",
       "dtype: int64"
      ]
     },
     "execution_count": 4,
     "metadata": {},
     "output_type": "execute_result"
    }
   ],
   "source": [
    "df.isnull().sum().sort_values(ascending=False)"
   ]
  },
  {
   "cell_type": "code",
   "execution_count": 5,
   "metadata": {},
   "outputs": [
    {
     "data": {
      "text/html": [
       "<div>\n",
       "<style scoped>\n",
       "    .dataframe tbody tr th:only-of-type {\n",
       "        vertical-align: middle;\n",
       "    }\n",
       "\n",
       "    .dataframe tbody tr th {\n",
       "        vertical-align: top;\n",
       "    }\n",
       "\n",
       "    .dataframe thead th {\n",
       "        text-align: right;\n",
       "    }\n",
       "</style>\n",
       "<table border=\"1\" class=\"dataframe\">\n",
       "  <thead>\n",
       "    <tr style=\"text-align: right;\">\n",
       "      <th></th>\n",
       "      <th>ID</th>\n",
       "      <th>Source</th>\n",
       "      <th>Severity</th>\n",
       "      <th>Start_Time</th>\n",
       "      <th>End_Time</th>\n",
       "      <th>Start_Lat</th>\n",
       "      <th>Start_Lng</th>\n",
       "      <th>End_Lat</th>\n",
       "      <th>End_Lng</th>\n",
       "      <th>Distance(mi)</th>\n",
       "      <th>...</th>\n",
       "      <th>Roundabout</th>\n",
       "      <th>Station</th>\n",
       "      <th>Stop</th>\n",
       "      <th>Traffic_Calming</th>\n",
       "      <th>Traffic_Signal</th>\n",
       "      <th>Turning_Loop</th>\n",
       "      <th>Sunrise_Sunset</th>\n",
       "      <th>Civil_Twilight</th>\n",
       "      <th>Nautical_Twilight</th>\n",
       "      <th>Astronomical_Twilight</th>\n",
       "    </tr>\n",
       "  </thead>\n",
       "  <tbody>\n",
       "    <tr>\n",
       "      <th>0</th>\n",
       "      <td>A-1</td>\n",
       "      <td>Source2</td>\n",
       "      <td>3</td>\n",
       "      <td>2016-02-08 05:46:00</td>\n",
       "      <td>2016-02-08 11:00:00</td>\n",
       "      <td>39.865147</td>\n",
       "      <td>-84.058723</td>\n",
       "      <td>NaN</td>\n",
       "      <td>NaN</td>\n",
       "      <td>0.01</td>\n",
       "      <td>...</td>\n",
       "      <td>False</td>\n",
       "      <td>False</td>\n",
       "      <td>False</td>\n",
       "      <td>False</td>\n",
       "      <td>False</td>\n",
       "      <td>False</td>\n",
       "      <td>Night</td>\n",
       "      <td>Night</td>\n",
       "      <td>Night</td>\n",
       "      <td>Night</td>\n",
       "    </tr>\n",
       "    <tr>\n",
       "      <th>1</th>\n",
       "      <td>A-2</td>\n",
       "      <td>Source2</td>\n",
       "      <td>2</td>\n",
       "      <td>2016-02-08 06:07:59</td>\n",
       "      <td>2016-02-08 06:37:59</td>\n",
       "      <td>39.928059</td>\n",
       "      <td>-82.831184</td>\n",
       "      <td>NaN</td>\n",
       "      <td>NaN</td>\n",
       "      <td>0.01</td>\n",
       "      <td>...</td>\n",
       "      <td>False</td>\n",
       "      <td>False</td>\n",
       "      <td>False</td>\n",
       "      <td>False</td>\n",
       "      <td>False</td>\n",
       "      <td>False</td>\n",
       "      <td>Night</td>\n",
       "      <td>Night</td>\n",
       "      <td>Night</td>\n",
       "      <td>Day</td>\n",
       "    </tr>\n",
       "    <tr>\n",
       "      <th>2</th>\n",
       "      <td>A-3</td>\n",
       "      <td>Source2</td>\n",
       "      <td>2</td>\n",
       "      <td>2016-02-08 06:49:27</td>\n",
       "      <td>2016-02-08 07:19:27</td>\n",
       "      <td>39.063148</td>\n",
       "      <td>-84.032608</td>\n",
       "      <td>NaN</td>\n",
       "      <td>NaN</td>\n",
       "      <td>0.01</td>\n",
       "      <td>...</td>\n",
       "      <td>False</td>\n",
       "      <td>False</td>\n",
       "      <td>False</td>\n",
       "      <td>False</td>\n",
       "      <td>True</td>\n",
       "      <td>False</td>\n",
       "      <td>Night</td>\n",
       "      <td>Night</td>\n",
       "      <td>Day</td>\n",
       "      <td>Day</td>\n",
       "    </tr>\n",
       "    <tr>\n",
       "      <th>3</th>\n",
       "      <td>A-4</td>\n",
       "      <td>Source2</td>\n",
       "      <td>3</td>\n",
       "      <td>2016-02-08 07:23:34</td>\n",
       "      <td>2016-02-08 07:53:34</td>\n",
       "      <td>39.747753</td>\n",
       "      <td>-84.205582</td>\n",
       "      <td>NaN</td>\n",
       "      <td>NaN</td>\n",
       "      <td>0.01</td>\n",
       "      <td>...</td>\n",
       "      <td>False</td>\n",
       "      <td>False</td>\n",
       "      <td>False</td>\n",
       "      <td>False</td>\n",
       "      <td>False</td>\n",
       "      <td>False</td>\n",
       "      <td>Night</td>\n",
       "      <td>Day</td>\n",
       "      <td>Day</td>\n",
       "      <td>Day</td>\n",
       "    </tr>\n",
       "    <tr>\n",
       "      <th>4</th>\n",
       "      <td>A-5</td>\n",
       "      <td>Source2</td>\n",
       "      <td>2</td>\n",
       "      <td>2016-02-08 07:39:07</td>\n",
       "      <td>2016-02-08 08:09:07</td>\n",
       "      <td>39.627781</td>\n",
       "      <td>-84.188354</td>\n",
       "      <td>NaN</td>\n",
       "      <td>NaN</td>\n",
       "      <td>0.01</td>\n",
       "      <td>...</td>\n",
       "      <td>False</td>\n",
       "      <td>False</td>\n",
       "      <td>False</td>\n",
       "      <td>False</td>\n",
       "      <td>True</td>\n",
       "      <td>False</td>\n",
       "      <td>Day</td>\n",
       "      <td>Day</td>\n",
       "      <td>Day</td>\n",
       "      <td>Day</td>\n",
       "    </tr>\n",
       "  </tbody>\n",
       "</table>\n",
       "<p>5 rows × 46 columns</p>\n",
       "</div>"
      ],
      "text/plain": [
       "    ID   Source  Severity           Start_Time             End_Time   \n",
       "0  A-1  Source2         3  2016-02-08 05:46:00  2016-02-08 11:00:00  \\\n",
       "1  A-2  Source2         2  2016-02-08 06:07:59  2016-02-08 06:37:59   \n",
       "2  A-3  Source2         2  2016-02-08 06:49:27  2016-02-08 07:19:27   \n",
       "3  A-4  Source2         3  2016-02-08 07:23:34  2016-02-08 07:53:34   \n",
       "4  A-5  Source2         2  2016-02-08 07:39:07  2016-02-08 08:09:07   \n",
       "\n",
       "   Start_Lat  Start_Lng  End_Lat  End_Lng  Distance(mi)  ... Roundabout   \n",
       "0  39.865147 -84.058723      NaN      NaN          0.01  ...      False  \\\n",
       "1  39.928059 -82.831184      NaN      NaN          0.01  ...      False   \n",
       "2  39.063148 -84.032608      NaN      NaN          0.01  ...      False   \n",
       "3  39.747753 -84.205582      NaN      NaN          0.01  ...      False   \n",
       "4  39.627781 -84.188354      NaN      NaN          0.01  ...      False   \n",
       "\n",
       "  Station   Stop Traffic_Calming Traffic_Signal Turning_Loop Sunrise_Sunset   \n",
       "0   False  False           False          False        False          Night  \\\n",
       "1   False  False           False          False        False          Night   \n",
       "2   False  False           False           True        False          Night   \n",
       "3   False  False           False          False        False          Night   \n",
       "4   False  False           False           True        False            Day   \n",
       "\n",
       "  Civil_Twilight Nautical_Twilight Astronomical_Twilight  \n",
       "0          Night             Night                 Night  \n",
       "1          Night             Night                   Day  \n",
       "2          Night               Day                   Day  \n",
       "3            Day               Day                   Day  \n",
       "4            Day               Day                   Day  \n",
       "\n",
       "[5 rows x 46 columns]"
      ]
     },
     "execution_count": 5,
     "metadata": {},
     "output_type": "execute_result"
    }
   ],
   "source": [
    "df.head()"
   ]
  },
  {
   "cell_type": "code",
   "execution_count": 6,
   "metadata": {},
   "outputs": [
    {
     "data": {
      "text/html": [
       "<div>\n",
       "<style scoped>\n",
       "    .dataframe tbody tr th:only-of-type {\n",
       "        vertical-align: middle;\n",
       "    }\n",
       "\n",
       "    .dataframe tbody tr th {\n",
       "        vertical-align: top;\n",
       "    }\n",
       "\n",
       "    .dataframe thead th {\n",
       "        text-align: right;\n",
       "    }\n",
       "</style>\n",
       "<table border=\"1\" class=\"dataframe\">\n",
       "  <thead>\n",
       "    <tr style=\"text-align: right;\">\n",
       "      <th></th>\n",
       "      <th>Severity</th>\n",
       "      <th>Start_Lat</th>\n",
       "      <th>Start_Lng</th>\n",
       "      <th>End_Lat</th>\n",
       "      <th>End_Lng</th>\n",
       "      <th>Distance(mi)</th>\n",
       "      <th>Temperature(F)</th>\n",
       "      <th>Wind_Chill(F)</th>\n",
       "      <th>Humidity(%)</th>\n",
       "      <th>Pressure(in)</th>\n",
       "      <th>Visibility(mi)</th>\n",
       "      <th>Wind_Speed(mph)</th>\n",
       "      <th>Precipitation(in)</th>\n",
       "    </tr>\n",
       "  </thead>\n",
       "  <tbody>\n",
       "    <tr>\n",
       "      <th>count</th>\n",
       "      <td>7.728394e+06</td>\n",
       "      <td>7.728394e+06</td>\n",
       "      <td>7.728394e+06</td>\n",
       "      <td>4.325632e+06</td>\n",
       "      <td>4.325632e+06</td>\n",
       "      <td>7.728394e+06</td>\n",
       "      <td>7.564541e+06</td>\n",
       "      <td>5.729375e+06</td>\n",
       "      <td>7.554250e+06</td>\n",
       "      <td>7.587715e+06</td>\n",
       "      <td>7.551296e+06</td>\n",
       "      <td>7.157161e+06</td>\n",
       "      <td>5.524808e+06</td>\n",
       "    </tr>\n",
       "    <tr>\n",
       "      <th>mean</th>\n",
       "      <td>2.212384e+00</td>\n",
       "      <td>3.620119e+01</td>\n",
       "      <td>-9.470255e+01</td>\n",
       "      <td>3.626183e+01</td>\n",
       "      <td>-9.572557e+01</td>\n",
       "      <td>5.618423e-01</td>\n",
       "      <td>6.166329e+01</td>\n",
       "      <td>5.825105e+01</td>\n",
       "      <td>6.483104e+01</td>\n",
       "      <td>2.953899e+01</td>\n",
       "      <td>9.090376e+00</td>\n",
       "      <td>7.685490e+00</td>\n",
       "      <td>8.407210e-03</td>\n",
       "    </tr>\n",
       "    <tr>\n",
       "      <th>std</th>\n",
       "      <td>4.875313e-01</td>\n",
       "      <td>5.076079e+00</td>\n",
       "      <td>1.739176e+01</td>\n",
       "      <td>5.272905e+00</td>\n",
       "      <td>1.810793e+01</td>\n",
       "      <td>1.776811e+00</td>\n",
       "      <td>1.901365e+01</td>\n",
       "      <td>2.238983e+01</td>\n",
       "      <td>2.282097e+01</td>\n",
       "      <td>1.006190e+00</td>\n",
       "      <td>2.688316e+00</td>\n",
       "      <td>5.424983e+00</td>\n",
       "      <td>1.102246e-01</td>\n",
       "    </tr>\n",
       "    <tr>\n",
       "      <th>min</th>\n",
       "      <td>1.000000e+00</td>\n",
       "      <td>2.455480e+01</td>\n",
       "      <td>-1.246238e+02</td>\n",
       "      <td>2.456601e+01</td>\n",
       "      <td>-1.245457e+02</td>\n",
       "      <td>0.000000e+00</td>\n",
       "      <td>-8.900000e+01</td>\n",
       "      <td>-8.900000e+01</td>\n",
       "      <td>1.000000e+00</td>\n",
       "      <td>0.000000e+00</td>\n",
       "      <td>0.000000e+00</td>\n",
       "      <td>0.000000e+00</td>\n",
       "      <td>0.000000e+00</td>\n",
       "    </tr>\n",
       "    <tr>\n",
       "      <th>25%</th>\n",
       "      <td>2.000000e+00</td>\n",
       "      <td>3.339963e+01</td>\n",
       "      <td>-1.172194e+02</td>\n",
       "      <td>3.346207e+01</td>\n",
       "      <td>-1.177543e+02</td>\n",
       "      <td>0.000000e+00</td>\n",
       "      <td>4.900000e+01</td>\n",
       "      <td>4.300000e+01</td>\n",
       "      <td>4.800000e+01</td>\n",
       "      <td>2.937000e+01</td>\n",
       "      <td>1.000000e+01</td>\n",
       "      <td>4.600000e+00</td>\n",
       "      <td>0.000000e+00</td>\n",
       "    </tr>\n",
       "    <tr>\n",
       "      <th>50%</th>\n",
       "      <td>2.000000e+00</td>\n",
       "      <td>3.582397e+01</td>\n",
       "      <td>-8.776662e+01</td>\n",
       "      <td>3.618349e+01</td>\n",
       "      <td>-8.802789e+01</td>\n",
       "      <td>3.000000e-02</td>\n",
       "      <td>6.400000e+01</td>\n",
       "      <td>6.200000e+01</td>\n",
       "      <td>6.700000e+01</td>\n",
       "      <td>2.986000e+01</td>\n",
       "      <td>1.000000e+01</td>\n",
       "      <td>7.000000e+00</td>\n",
       "      <td>0.000000e+00</td>\n",
       "    </tr>\n",
       "    <tr>\n",
       "      <th>75%</th>\n",
       "      <td>2.000000e+00</td>\n",
       "      <td>4.008496e+01</td>\n",
       "      <td>-8.035368e+01</td>\n",
       "      <td>4.017892e+01</td>\n",
       "      <td>-8.024709e+01</td>\n",
       "      <td>4.640000e-01</td>\n",
       "      <td>7.600000e+01</td>\n",
       "      <td>7.500000e+01</td>\n",
       "      <td>8.400000e+01</td>\n",
       "      <td>3.003000e+01</td>\n",
       "      <td>1.000000e+01</td>\n",
       "      <td>1.040000e+01</td>\n",
       "      <td>0.000000e+00</td>\n",
       "    </tr>\n",
       "    <tr>\n",
       "      <th>max</th>\n",
       "      <td>4.000000e+00</td>\n",
       "      <td>4.900220e+01</td>\n",
       "      <td>-6.711317e+01</td>\n",
       "      <td>4.907500e+01</td>\n",
       "      <td>-6.710924e+01</td>\n",
       "      <td>4.417500e+02</td>\n",
       "      <td>2.070000e+02</td>\n",
       "      <td>2.070000e+02</td>\n",
       "      <td>1.000000e+02</td>\n",
       "      <td>5.863000e+01</td>\n",
       "      <td>1.400000e+02</td>\n",
       "      <td>1.087000e+03</td>\n",
       "      <td>3.647000e+01</td>\n",
       "    </tr>\n",
       "  </tbody>\n",
       "</table>\n",
       "</div>"
      ],
      "text/plain": [
       "           Severity     Start_Lat     Start_Lng       End_Lat       End_Lng   \n",
       "count  7.728394e+06  7.728394e+06  7.728394e+06  4.325632e+06  4.325632e+06  \\\n",
       "mean   2.212384e+00  3.620119e+01 -9.470255e+01  3.626183e+01 -9.572557e+01   \n",
       "std    4.875313e-01  5.076079e+00  1.739176e+01  5.272905e+00  1.810793e+01   \n",
       "min    1.000000e+00  2.455480e+01 -1.246238e+02  2.456601e+01 -1.245457e+02   \n",
       "25%    2.000000e+00  3.339963e+01 -1.172194e+02  3.346207e+01 -1.177543e+02   \n",
       "50%    2.000000e+00  3.582397e+01 -8.776662e+01  3.618349e+01 -8.802789e+01   \n",
       "75%    2.000000e+00  4.008496e+01 -8.035368e+01  4.017892e+01 -8.024709e+01   \n",
       "max    4.000000e+00  4.900220e+01 -6.711317e+01  4.907500e+01 -6.710924e+01   \n",
       "\n",
       "       Distance(mi)  Temperature(F)  Wind_Chill(F)   Humidity(%)   \n",
       "count  7.728394e+06    7.564541e+06   5.729375e+06  7.554250e+06  \\\n",
       "mean   5.618423e-01    6.166329e+01   5.825105e+01  6.483104e+01   \n",
       "std    1.776811e+00    1.901365e+01   2.238983e+01  2.282097e+01   \n",
       "min    0.000000e+00   -8.900000e+01  -8.900000e+01  1.000000e+00   \n",
       "25%    0.000000e+00    4.900000e+01   4.300000e+01  4.800000e+01   \n",
       "50%    3.000000e-02    6.400000e+01   6.200000e+01  6.700000e+01   \n",
       "75%    4.640000e-01    7.600000e+01   7.500000e+01  8.400000e+01   \n",
       "max    4.417500e+02    2.070000e+02   2.070000e+02  1.000000e+02   \n",
       "\n",
       "       Pressure(in)  Visibility(mi)  Wind_Speed(mph)  Precipitation(in)  \n",
       "count  7.587715e+06    7.551296e+06     7.157161e+06       5.524808e+06  \n",
       "mean   2.953899e+01    9.090376e+00     7.685490e+00       8.407210e-03  \n",
       "std    1.006190e+00    2.688316e+00     5.424983e+00       1.102246e-01  \n",
       "min    0.000000e+00    0.000000e+00     0.000000e+00       0.000000e+00  \n",
       "25%    2.937000e+01    1.000000e+01     4.600000e+00       0.000000e+00  \n",
       "50%    2.986000e+01    1.000000e+01     7.000000e+00       0.000000e+00  \n",
       "75%    3.003000e+01    1.000000e+01     1.040000e+01       0.000000e+00  \n",
       "max    5.863000e+01    1.400000e+02     1.087000e+03       3.647000e+01  "
      ]
     },
     "execution_count": 6,
     "metadata": {},
     "output_type": "execute_result"
    }
   ],
   "source": [
    "df.describe()"
   ]
  },
  {
   "cell_type": "code",
   "execution_count": 7,
   "metadata": {},
   "outputs": [
    {
     "name": "stdout",
     "output_type": "stream",
     "text": [
      "<class 'pandas.core.frame.DataFrame'>\n",
      "RangeIndex: 7728394 entries, 0 to 7728393\n",
      "Data columns (total 46 columns):\n",
      " #   Column                 Dtype  \n",
      "---  ------                 -----  \n",
      " 0   ID                     object \n",
      " 1   Source                 object \n",
      " 2   Severity               int64  \n",
      " 3   Start_Time             object \n",
      " 4   End_Time               object \n",
      " 5   Start_Lat              float64\n",
      " 6   Start_Lng              float64\n",
      " 7   End_Lat                float64\n",
      " 8   End_Lng                float64\n",
      " 9   Distance(mi)           float64\n",
      " 10  Description            object \n",
      " 11  Street                 object \n",
      " 12  City                   object \n",
      " 13  County                 object \n",
      " 14  State                  object \n",
      " 15  Zipcode                object \n",
      " 16  Country                object \n",
      " 17  Timezone               object \n",
      " 18  Airport_Code           object \n",
      " 19  Weather_Timestamp      object \n",
      " 20  Temperature(F)         float64\n",
      " 21  Wind_Chill(F)          float64\n",
      " 22  Humidity(%)            float64\n",
      " 23  Pressure(in)           float64\n",
      " 24  Visibility(mi)         float64\n",
      " 25  Wind_Direction         object \n",
      " 26  Wind_Speed(mph)        float64\n",
      " 27  Precipitation(in)      float64\n",
      " 28  Weather_Condition      object \n",
      " 29  Amenity                bool   \n",
      " 30  Bump                   bool   \n",
      " 31  Crossing               bool   \n",
      " 32  Give_Way               bool   \n",
      " 33  Junction               bool   \n",
      " 34  No_Exit                bool   \n",
      " 35  Railway                bool   \n",
      " 36  Roundabout             bool   \n",
      " 37  Station                bool   \n",
      " 38  Stop                   bool   \n",
      " 39  Traffic_Calming        bool   \n",
      " 40  Traffic_Signal         bool   \n",
      " 41  Turning_Loop           bool   \n",
      " 42  Sunrise_Sunset         object \n",
      " 43  Civil_Twilight         object \n",
      " 44  Nautical_Twilight      object \n",
      " 45  Astronomical_Twilight  object \n",
      "dtypes: bool(13), float64(12), int64(1), object(20)\n",
      "memory usage: 2.0+ GB\n"
     ]
    }
   ],
   "source": [
    "df.info()"
   ]
  },
  {
   "cell_type": "code",
   "execution_count": 8,
   "metadata": {},
   "outputs": [
    {
     "data": {
      "text/plain": [
       "array(['US/Eastern', 'US/Pacific', nan, 'US/Central', 'US/Mountain'],\n",
       "      dtype=object)"
      ]
     },
     "execution_count": 8,
     "metadata": {},
     "output_type": "execute_result"
    }
   ],
   "source": [
    "df['Timezone'].unique()"
   ]
  },
  {
   "cell_type": "code",
   "execution_count": 9,
   "metadata": {},
   "outputs": [
    {
     "data": {
      "text/plain": [
       "Zipcode\n",
       "91761         11247\n",
       "91706         10022\n",
       "92407          8922\n",
       "92507          8850\n",
       "33186          8375\n",
       "              ...  \n",
       "29349-9729        1\n",
       "27263-8819        1\n",
       "28208-2854        1\n",
       "24416-1269        1\n",
       "94401-2213        1\n",
       "Name: count, Length: 825094, dtype: int64"
      ]
     },
     "execution_count": 9,
     "metadata": {},
     "output_type": "execute_result"
    }
   ],
   "source": [
    "df['Zipcode'].value_counts()"
   ]
  },
  {
   "cell_type": "code",
   "execution_count": 10,
   "metadata": {},
   "outputs": [
    {
     "data": {
      "text/plain": [
       "0          2016-02-08 05:58:00\n",
       "1          2016-02-08 05:51:00\n",
       "2          2016-02-08 06:56:00\n",
       "3          2016-02-08 07:38:00\n",
       "4          2016-02-08 07:53:00\n",
       "                  ...         \n",
       "7728389    2019-08-23 17:53:00\n",
       "7728390    2019-08-23 18:53:00\n",
       "7728391    2019-08-23 18:53:00\n",
       "7728392    2019-08-23 18:51:00\n",
       "7728393    2019-08-23 20:50:00\n",
       "Name: Weather_Timestamp, Length: 7728394, dtype: object"
      ]
     },
     "execution_count": 10,
     "metadata": {},
     "output_type": "execute_result"
    }
   ],
   "source": [
    "df['Weather_Timestamp']"
   ]
  },
  {
   "cell_type": "code",
   "execution_count": 11,
   "metadata": {},
   "outputs": [
    {
     "data": {
      "text/plain": [
       "array(['Montgomery', 'Franklin', 'Clermont', ..., 'Woods', 'Mellette',\n",
       "       'Ness'], dtype=object)"
      ]
     },
     "execution_count": 11,
     "metadata": {},
     "output_type": "execute_result"
    }
   ],
   "source": [
    "df['County'].unique()"
   ]
  },
  {
   "cell_type": "code",
   "execution_count": 12,
   "metadata": {},
   "outputs": [
    {
     "data": {
      "text/plain": [
       "array([3, 2, 1, 4], dtype=int64)"
      ]
     },
     "execution_count": 12,
     "metadata": {},
     "output_type": "execute_result"
    }
   ],
   "source": [
    "df['Severity'].unique()"
   ]
  },
  {
   "cell_type": "code",
   "execution_count": 13,
   "metadata": {},
   "outputs": [
    {
     "data": {
      "text/plain": [
       "0          2016-02-08 05:58:00\n",
       "1          2016-02-08 05:51:00\n",
       "2          2016-02-08 06:56:00\n",
       "3          2016-02-08 07:38:00\n",
       "4          2016-02-08 07:53:00\n",
       "                  ...         \n",
       "7728389    2019-08-23 17:53:00\n",
       "7728390    2019-08-23 18:53:00\n",
       "7728391    2019-08-23 18:53:00\n",
       "7728392    2019-08-23 18:51:00\n",
       "7728393    2019-08-23 20:50:00\n",
       "Name: Weather_Timestamp, Length: 7728394, dtype: object"
      ]
     },
     "execution_count": 13,
     "metadata": {},
     "output_type": "execute_result"
    }
   ],
   "source": [
    "df['Weather_Timestamp']"
   ]
  },
  {
   "cell_type": "code",
   "execution_count": 14,
   "metadata": {},
   "outputs": [
    {
     "data": {
      "text/plain": [
       "Timezone\n",
       "US/Eastern     3580167\n",
       "US/Pacific     2062984\n",
       "US/Central     1645616\n",
       "US/Mountain     431819\n",
       "Name: count, dtype: int64"
      ]
     },
     "execution_count": 14,
     "metadata": {},
     "output_type": "execute_result"
    }
   ],
   "source": [
    "df['Timezone'].value_counts()"
   ]
  },
  {
   "cell_type": "markdown",
   "metadata": {},
   "source": [
    "### handling data types \n"
   ]
  },
  {
   "cell_type": "code",
   "execution_count": 15,
   "metadata": {},
   "outputs": [],
   "source": [
    "df['Start_Time'] = df['Start_Time'].str.replace(r'\\.\\d+', '', regex=True)\n",
    "df['Start_Time'] = pd.to_datetime(df['Start_Time'])\n",
    "\n",
    "#format of the stat tie is like yyyy-mm-dd hh:mm:sss"
   ]
  },
  {
   "cell_type": "code",
   "execution_count": 16,
   "metadata": {},
   "outputs": [],
   "source": [
    "df['End_Time'] = df['End_Time'].str.replace(r'\\.\\d+', '', regex=True)\n",
    "df['End_Time'] = pd.to_datetime(df['End_Time'])"
   ]
  },
  {
   "cell_type": "code",
   "execution_count": 17,
   "metadata": {},
   "outputs": [],
   "source": [
    "df['Zipcode'] = df['Zipcode'].str.slice(0,5)\n",
    "df['Zipcode'] = df['Zipcode'].fillna(0).astype(int)\n",
    "\n",
    "#format zzzzz"
   ]
  },
  {
   "cell_type": "code",
   "execution_count": 18,
   "metadata": {},
   "outputs": [],
   "source": [
    "df['Weather_Timestamp'] = df['Weather_Timestamp'].str.replace(r'\\.\\d+', '', regex=True)\n",
    "df['Weather_Timestamp'] = pd.to_datetime(df['Weather_Timestamp'])"
   ]
  },
  {
   "cell_type": "markdown",
   "metadata": {},
   "source": [
    "#### Handling missing End_Lat and End_Lag\n",
    "Now we can replace the values with the start lat and start lag since we can assume and most cases are point accidents. "
   ]
  },
  {
   "cell_type": "code",
   "execution_count": 19,
   "metadata": {},
   "outputs": [],
   "source": [
    "df['End_Lat'].fillna(df['Start_Lat'], inplace=True)\n",
    "df['End_Lng'].fillna(df['Start_Lng'], inplace=True)"
   ]
  },
  {
   "cell_type": "code",
   "execution_count": 20,
   "metadata": {},
   "outputs": [
    {
     "data": {
      "text/html": [
       "<div>\n",
       "<style scoped>\n",
       "    .dataframe tbody tr th:only-of-type {\n",
       "        vertical-align: middle;\n",
       "    }\n",
       "\n",
       "    .dataframe tbody tr th {\n",
       "        vertical-align: top;\n",
       "    }\n",
       "\n",
       "    .dataframe thead th {\n",
       "        text-align: right;\n",
       "    }\n",
       "</style>\n",
       "<table border=\"1\" class=\"dataframe\">\n",
       "  <thead>\n",
       "    <tr style=\"text-align: right;\">\n",
       "      <th></th>\n",
       "      <th>ID</th>\n",
       "      <th>Source</th>\n",
       "      <th>Severity</th>\n",
       "      <th>Start_Time</th>\n",
       "      <th>End_Time</th>\n",
       "      <th>Start_Lat</th>\n",
       "      <th>Start_Lng</th>\n",
       "      <th>End_Lat</th>\n",
       "      <th>End_Lng</th>\n",
       "      <th>Distance(mi)</th>\n",
       "      <th>...</th>\n",
       "      <th>Roundabout</th>\n",
       "      <th>Station</th>\n",
       "      <th>Stop</th>\n",
       "      <th>Traffic_Calming</th>\n",
       "      <th>Traffic_Signal</th>\n",
       "      <th>Turning_Loop</th>\n",
       "      <th>Sunrise_Sunset</th>\n",
       "      <th>Civil_Twilight</th>\n",
       "      <th>Nautical_Twilight</th>\n",
       "      <th>Astronomical_Twilight</th>\n",
       "    </tr>\n",
       "  </thead>\n",
       "  <tbody>\n",
       "    <tr>\n",
       "      <th>0</th>\n",
       "      <td>A-1</td>\n",
       "      <td>Source2</td>\n",
       "      <td>3</td>\n",
       "      <td>2016-02-08 05:46:00</td>\n",
       "      <td>2016-02-08 11:00:00</td>\n",
       "      <td>39.865147</td>\n",
       "      <td>-84.058723</td>\n",
       "      <td>39.865147</td>\n",
       "      <td>-84.058723</td>\n",
       "      <td>0.01</td>\n",
       "      <td>...</td>\n",
       "      <td>False</td>\n",
       "      <td>False</td>\n",
       "      <td>False</td>\n",
       "      <td>False</td>\n",
       "      <td>False</td>\n",
       "      <td>False</td>\n",
       "      <td>Night</td>\n",
       "      <td>Night</td>\n",
       "      <td>Night</td>\n",
       "      <td>Night</td>\n",
       "    </tr>\n",
       "    <tr>\n",
       "      <th>1</th>\n",
       "      <td>A-2</td>\n",
       "      <td>Source2</td>\n",
       "      <td>2</td>\n",
       "      <td>2016-02-08 06:07:59</td>\n",
       "      <td>2016-02-08 06:37:59</td>\n",
       "      <td>39.928059</td>\n",
       "      <td>-82.831184</td>\n",
       "      <td>39.928059</td>\n",
       "      <td>-82.831184</td>\n",
       "      <td>0.01</td>\n",
       "      <td>...</td>\n",
       "      <td>False</td>\n",
       "      <td>False</td>\n",
       "      <td>False</td>\n",
       "      <td>False</td>\n",
       "      <td>False</td>\n",
       "      <td>False</td>\n",
       "      <td>Night</td>\n",
       "      <td>Night</td>\n",
       "      <td>Night</td>\n",
       "      <td>Day</td>\n",
       "    </tr>\n",
       "    <tr>\n",
       "      <th>2</th>\n",
       "      <td>A-3</td>\n",
       "      <td>Source2</td>\n",
       "      <td>2</td>\n",
       "      <td>2016-02-08 06:49:27</td>\n",
       "      <td>2016-02-08 07:19:27</td>\n",
       "      <td>39.063148</td>\n",
       "      <td>-84.032608</td>\n",
       "      <td>39.063148</td>\n",
       "      <td>-84.032608</td>\n",
       "      <td>0.01</td>\n",
       "      <td>...</td>\n",
       "      <td>False</td>\n",
       "      <td>False</td>\n",
       "      <td>False</td>\n",
       "      <td>False</td>\n",
       "      <td>True</td>\n",
       "      <td>False</td>\n",
       "      <td>Night</td>\n",
       "      <td>Night</td>\n",
       "      <td>Day</td>\n",
       "      <td>Day</td>\n",
       "    </tr>\n",
       "    <tr>\n",
       "      <th>3</th>\n",
       "      <td>A-4</td>\n",
       "      <td>Source2</td>\n",
       "      <td>3</td>\n",
       "      <td>2016-02-08 07:23:34</td>\n",
       "      <td>2016-02-08 07:53:34</td>\n",
       "      <td>39.747753</td>\n",
       "      <td>-84.205582</td>\n",
       "      <td>39.747753</td>\n",
       "      <td>-84.205582</td>\n",
       "      <td>0.01</td>\n",
       "      <td>...</td>\n",
       "      <td>False</td>\n",
       "      <td>False</td>\n",
       "      <td>False</td>\n",
       "      <td>False</td>\n",
       "      <td>False</td>\n",
       "      <td>False</td>\n",
       "      <td>Night</td>\n",
       "      <td>Day</td>\n",
       "      <td>Day</td>\n",
       "      <td>Day</td>\n",
       "    </tr>\n",
       "    <tr>\n",
       "      <th>4</th>\n",
       "      <td>A-5</td>\n",
       "      <td>Source2</td>\n",
       "      <td>2</td>\n",
       "      <td>2016-02-08 07:39:07</td>\n",
       "      <td>2016-02-08 08:09:07</td>\n",
       "      <td>39.627781</td>\n",
       "      <td>-84.188354</td>\n",
       "      <td>39.627781</td>\n",
       "      <td>-84.188354</td>\n",
       "      <td>0.01</td>\n",
       "      <td>...</td>\n",
       "      <td>False</td>\n",
       "      <td>False</td>\n",
       "      <td>False</td>\n",
       "      <td>False</td>\n",
       "      <td>True</td>\n",
       "      <td>False</td>\n",
       "      <td>Day</td>\n",
       "      <td>Day</td>\n",
       "      <td>Day</td>\n",
       "      <td>Day</td>\n",
       "    </tr>\n",
       "  </tbody>\n",
       "</table>\n",
       "<p>5 rows × 46 columns</p>\n",
       "</div>"
      ],
      "text/plain": [
       "    ID   Source  Severity          Start_Time            End_Time  Start_Lat   \n",
       "0  A-1  Source2         3 2016-02-08 05:46:00 2016-02-08 11:00:00  39.865147  \\\n",
       "1  A-2  Source2         2 2016-02-08 06:07:59 2016-02-08 06:37:59  39.928059   \n",
       "2  A-3  Source2         2 2016-02-08 06:49:27 2016-02-08 07:19:27  39.063148   \n",
       "3  A-4  Source2         3 2016-02-08 07:23:34 2016-02-08 07:53:34  39.747753   \n",
       "4  A-5  Source2         2 2016-02-08 07:39:07 2016-02-08 08:09:07  39.627781   \n",
       "\n",
       "   Start_Lng    End_Lat    End_Lng  Distance(mi)  ... Roundabout Station   \n",
       "0 -84.058723  39.865147 -84.058723          0.01  ...      False   False  \\\n",
       "1 -82.831184  39.928059 -82.831184          0.01  ...      False   False   \n",
       "2 -84.032608  39.063148 -84.032608          0.01  ...      False   False   \n",
       "3 -84.205582  39.747753 -84.205582          0.01  ...      False   False   \n",
       "4 -84.188354  39.627781 -84.188354          0.01  ...      False   False   \n",
       "\n",
       "    Stop Traffic_Calming Traffic_Signal  Turning_Loop Sunrise_Sunset   \n",
       "0  False           False          False         False          Night  \\\n",
       "1  False           False          False         False          Night   \n",
       "2  False           False           True         False          Night   \n",
       "3  False           False          False         False          Night   \n",
       "4  False           False           True         False            Day   \n",
       "\n",
       "  Civil_Twilight Nautical_Twilight Astronomical_Twilight  \n",
       "0          Night             Night                 Night  \n",
       "1          Night             Night                   Day  \n",
       "2          Night               Day                   Day  \n",
       "3            Day               Day                   Day  \n",
       "4            Day               Day                   Day  \n",
       "\n",
       "[5 rows x 46 columns]"
      ]
     },
     "execution_count": 20,
     "metadata": {},
     "output_type": "execute_result"
    }
   ],
   "source": [
    "df.head()"
   ]
  },
  {
   "cell_type": "markdown",
   "metadata": {},
   "source": [
    "### Handling the weather condition column\n"
   ]
  },
  {
   "cell_type": "code",
   "execution_count": 21,
   "metadata": {},
   "outputs": [],
   "source": [
    "df['weather_Condition'] = df['Weather_Condition'].str.split().str[-1]"
   ]
  },
  {
   "cell_type": "code",
   "execution_count": 22,
   "metadata": {},
   "outputs": [
    {
     "data": {
      "text/plain": [
       "weather_Condition\n",
       "Fair             2560802\n",
       "Cloudy           2532249\n",
       "Clear             808743\n",
       "Rain              482903\n",
       "Overcast          382866\n",
       "Clouds            204829\n",
       "Snow              150003\n",
       "Fog               107888\n",
       "Windy             107430\n",
       "Haze               76233\n",
       "Drizzle            29137\n",
       "Thunder            27872\n",
       "T-Storm            26481\n",
       "Vicinity           19125\n",
       "Smoke              12669\n",
       "Mix                11732\n",
       "Thunderstorm        4441\n",
       "Mist                3539\n",
       "Precipitation       3252\n",
       "Sleet                992\n",
       "Dust                 370\n",
       "Pellets              367\n",
       "Shower               365\n",
       "Showers              313\n",
       "Hail                 138\n",
       "Whirlwinds            51\n",
       "Squalls               35\n",
       "Cloud                 22\n",
       "Ash                   22\n",
       "Sand                  21\n",
       "Tornado               19\n",
       "Grains                15\n",
       "Nearby                 7\n",
       "Duststorm              3\n",
       "Whirls                 1\n",
       "Name: count, dtype: int64"
      ]
     },
     "execution_count": 22,
     "metadata": {},
     "output_type": "execute_result"
    }
   ],
   "source": [
    "df['weather_Condition'].value_counts()"
   ]
  },
  {
   "cell_type": "code",
   "execution_count": 23,
   "metadata": {},
   "outputs": [],
   "source": [
    "# Replace 'Clouds' with 'Cloudy' in the 'new_column'\n",
    "df['weather_Condition'] = df['weather_Condition'].replace('Clouds', 'Cloudy')"
   ]
  },
  {
   "cell_type": "code",
   "execution_count": 24,
   "metadata": {},
   "outputs": [],
   "source": [
    "# List of desired features\n",
    "features = ['Fair', 'Cloudy', 'Clear', 'Rain', 'Overcast', 'Snow', 'Fog', 'Windy', 'Haze']\n",
    "\n",
    "# Keep only the rows where 'new_column' is in the list of features\n",
    "df = df[df['weather_Condition'].isin(features)]\n"
   ]
  },
  {
   "cell_type": "markdown",
   "metadata": {},
   "source": [
    "### dropping columns"
   ]
  },
  {
   "cell_type": "code",
   "execution_count": 25,
   "metadata": {},
   "outputs": [],
   "source": [
    "df.drop('ID', axis=1, inplace=True)#1(no of features dropped)"
   ]
  },
  {
   "cell_type": "code",
   "execution_count": 26,
   "metadata": {},
   "outputs": [],
   "source": [
    "#since country is USA\n",
    "df.drop('Country', axis=1, inplace=True)#2"
   ]
  },
  {
   "cell_type": "code",
   "execution_count": 27,
   "metadata": {},
   "outputs": [],
   "source": [
    "df.drop(['Astronomical_Twilight','Sunrise_Sunset','Civil_Twilight','Nautical_Twilight'], axis=1, inplace=True)#6"
   ]
  },
  {
   "cell_type": "code",
   "execution_count": 28,
   "metadata": {},
   "outputs": [],
   "source": [
    "df.drop(['End_Time', 'Start_Lat', 'Start_Lng', 'End_Lat', 'End_Lng', 'Description', 'Weather_Timestamp', 'Distance(mi)'],axis=1, inplace=True)#14"
   ]
  },
  {
   "cell_type": "code",
   "execution_count": 29,
   "metadata": {},
   "outputs": [],
   "source": [
    "df.drop('Weather_Condition', axis=1, inplace=True)"
   ]
  },
  {
   "cell_type": "code",
   "execution_count": 30,
   "metadata": {},
   "outputs": [],
   "source": [
    "df.drop(['Wind_Chill(F)', 'Humidity(%)', 'Pressure(in)', 'Visibility(mi)','Wind_Direction', 'Wind_Speed(mph)', 'Precipitation(in)'], axis=1, inplace=True)"
   ]
  },
  {
   "cell_type": "markdown",
   "metadata": {},
   "source": [
    "### Genral information updated\n"
   ]
  },
  {
   "cell_type": "code",
   "execution_count": 31,
   "metadata": {},
   "outputs": [],
   "source": [
    "import seaborn as sns"
   ]
  },
  {
   "cell_type": "code",
   "execution_count": 32,
   "metadata": {},
   "outputs": [
    {
     "name": "stdout",
     "output_type": "stream",
     "text": [
      "<class 'pandas.core.frame.DataFrame'>\n",
      "Index: 7413946 entries, 0 to 7728393\n",
      "Data columns (total 25 columns):\n",
      " #   Column             Dtype         \n",
      "---  ------             -----         \n",
      " 0   Source             object        \n",
      " 1   Severity           int64         \n",
      " 2   Start_Time         datetime64[ns]\n",
      " 3   Street             object        \n",
      " 4   City               object        \n",
      " 5   County             object        \n",
      " 6   State              object        \n",
      " 7   Zipcode            int32         \n",
      " 8   Timezone           object        \n",
      " 9   Airport_Code       object        \n",
      " 10  Temperature(F)     float64       \n",
      " 11  Amenity            bool          \n",
      " 12  Bump               bool          \n",
      " 13  Crossing           bool          \n",
      " 14  Give_Way           bool          \n",
      " 15  Junction           bool          \n",
      " 16  No_Exit            bool          \n",
      " 17  Railway            bool          \n",
      " 18  Roundabout         bool          \n",
      " 19  Station            bool          \n",
      " 20  Stop               bool          \n",
      " 21  Traffic_Calming    bool          \n",
      " 22  Traffic_Signal     bool          \n",
      " 23  Turning_Loop       bool          \n",
      " 24  weather_Condition  object        \n",
      "dtypes: bool(13), datetime64[ns](1), float64(1), int32(1), int64(1), object(8)\n",
      "memory usage: 799.0+ MB\n"
     ]
    }
   ],
   "source": [
    "df.info()"
   ]
  },
  {
   "cell_type": "code",
   "execution_count": 33,
   "metadata": {},
   "outputs": [
    {
     "data": {
      "text/plain": [
       "Temperature(F)       26248\n",
       "Street               10307\n",
       "City                   236\n",
       "Source                   0\n",
       "Give_Way                 0\n",
       "Turning_Loop             0\n",
       "Traffic_Signal           0\n",
       "Traffic_Calming          0\n",
       "Stop                     0\n",
       "Station                  0\n",
       "Roundabout               0\n",
       "Railway                  0\n",
       "No_Exit                  0\n",
       "Junction                 0\n",
       "Bump                     0\n",
       "Crossing                 0\n",
       "Severity                 0\n",
       "Amenity                  0\n",
       "Airport_Code             0\n",
       "Timezone                 0\n",
       "Zipcode                  0\n",
       "State                    0\n",
       "County                   0\n",
       "Start_Time               0\n",
       "weather_Condition        0\n",
       "dtype: int64"
      ]
     },
     "execution_count": 33,
     "metadata": {},
     "output_type": "execute_result"
    }
   ],
   "source": [
    "df.isnull().sum().sort_values(ascending=False)"
   ]
  },
  {
   "cell_type": "code",
   "execution_count": 34,
   "metadata": {},
   "outputs": [
    {
     "data": {
      "text/plain": [
       "Index(['Source', 'Severity', 'Start_Time', 'Street', 'City', 'County', 'State',\n",
       "       'Zipcode', 'Timezone', 'Airport_Code', 'Temperature(F)', 'Amenity',\n",
       "       'Bump', 'Crossing', 'Give_Way', 'Junction', 'No_Exit', 'Railway',\n",
       "       'Roundabout', 'Station', 'Stop', 'Traffic_Calming', 'Traffic_Signal',\n",
       "       'Turning_Loop', 'weather_Condition'],\n",
       "      dtype='object')"
      ]
     },
     "execution_count": 34,
     "metadata": {},
     "output_type": "execute_result"
    }
   ],
   "source": [
    "df.columns"
   ]
  },
  {
   "cell_type": "code",
   "execution_count": 35,
   "metadata": {},
   "outputs": [
    {
     "data": {
      "text/plain": [
       "25"
      ]
     },
     "execution_count": 35,
     "metadata": {},
     "output_type": "execute_result"
    }
   ],
   "source": [
    "len(df.columns)"
   ]
  },
  {
   "cell_type": "code",
   "execution_count": 36,
   "metadata": {},
   "outputs": [
    {
     "data": {
      "text/plain": [
       "Severity\n",
       "2    5909419\n",
       "3    1245737\n",
       "4     193521\n",
       "1      65269\n",
       "Name: count, dtype: int64"
      ]
     },
     "execution_count": 36,
     "metadata": {},
     "output_type": "execute_result"
    }
   ],
   "source": [
    "df['Severity'].value_counts()"
   ]
  },
  {
   "cell_type": "code",
   "execution_count": 37,
   "metadata": {},
   "outputs": [
    {
     "data": {
      "text/plain": [
       "Temperature(F)\n",
       " 73.0     165545\n",
       " 77.0     164919\n",
       " 68.0     160191\n",
       " 72.0     156263\n",
       " 75.0     152906\n",
       "           ...  \n",
       " 1.6           1\n",
       "-24.5          1\n",
       "-24.9          1\n",
       " 158.0         1\n",
       " 113.9         1\n",
       "Name: count, Length: 858, dtype: int64"
      ]
     },
     "execution_count": 37,
     "metadata": {},
     "output_type": "execute_result"
    }
   ],
   "source": [
    "df['Temperature(F)'].value_counts()"
   ]
  },
  {
   "cell_type": "code",
   "execution_count": 38,
   "metadata": {},
   "outputs": [
    {
     "data": {
      "text/plain": [
       "(7413946, 25)"
      ]
     },
     "execution_count": 38,
     "metadata": {},
     "output_type": "execute_result"
    }
   ],
   "source": [
    "df.shape"
   ]
  },
  {
   "cell_type": "code",
   "execution_count": 39,
   "metadata": {},
   "outputs": [
    {
     "data": {
      "text/plain": [
       "Source                   0\n",
       "Severity                 0\n",
       "Start_Time               0\n",
       "Street               10307\n",
       "City                   236\n",
       "County                   0\n",
       "State                    0\n",
       "Zipcode                  0\n",
       "Timezone                 0\n",
       "Airport_Code             0\n",
       "Temperature(F)       26248\n",
       "Amenity                  0\n",
       "Bump                     0\n",
       "Crossing                 0\n",
       "Give_Way                 0\n",
       "Junction                 0\n",
       "No_Exit                  0\n",
       "Railway                  0\n",
       "Roundabout               0\n",
       "Station                  0\n",
       "Stop                     0\n",
       "Traffic_Calming          0\n",
       "Traffic_Signal           0\n",
       "Turning_Loop             0\n",
       "weather_Condition        0\n",
       "dtype: int64"
      ]
     },
     "execution_count": 39,
     "metadata": {},
     "output_type": "execute_result"
    }
   ],
   "source": [
    "df.isnull().sum()"
   ]
  },
  {
   "cell_type": "markdown",
   "metadata": {},
   "source": [
    "#### dropping the null rows in the columns"
   ]
  },
  {
   "cell_type": "code",
   "execution_count": 40,
   "metadata": {},
   "outputs": [],
   "source": [
    "df = df.dropna(subset=['Temperature(F)'])"
   ]
  },
  {
   "cell_type": "code",
   "execution_count": 41,
   "metadata": {},
   "outputs": [],
   "source": [
    "df = df.dropna(subset=['Street'])"
   ]
  },
  {
   "cell_type": "code",
   "execution_count": 42,
   "metadata": {},
   "outputs": [],
   "source": [
    "df = df.dropna(subset=['City'])"
   ]
  },
  {
   "cell_type": "code",
   "execution_count": 43,
   "metadata": {},
   "outputs": [
    {
     "data": {
      "text/plain": [
       "Source               0\n",
       "Severity             0\n",
       "Start_Time           0\n",
       "Street               0\n",
       "City                 0\n",
       "County               0\n",
       "State                0\n",
       "Zipcode              0\n",
       "Timezone             0\n",
       "Airport_Code         0\n",
       "Temperature(F)       0\n",
       "Amenity              0\n",
       "Bump                 0\n",
       "Crossing             0\n",
       "Give_Way             0\n",
       "Junction             0\n",
       "No_Exit              0\n",
       "Railway              0\n",
       "Roundabout           0\n",
       "Station              0\n",
       "Stop                 0\n",
       "Traffic_Calming      0\n",
       "Traffic_Signal       0\n",
       "Turning_Loop         0\n",
       "weather_Condition    0\n",
       "dtype: int64"
      ]
     },
     "execution_count": 43,
     "metadata": {},
     "output_type": "execute_result"
    }
   ],
   "source": [
    "df.isnull().sum()"
   ]
  },
  {
   "cell_type": "code",
   "execution_count": 44,
   "metadata": {},
   "outputs": [
    {
     "data": {
      "text/plain": [
       "Timezone\n",
       "US/Eastern     3400373\n",
       "US/Pacific     1988580\n",
       "US/Central     1581628\n",
       "US/Mountain     406638\n",
       "Name: count, dtype: int64"
      ]
     },
     "execution_count": 44,
     "metadata": {},
     "output_type": "execute_result"
    }
   ],
   "source": [
    "df['Timezone'].value_counts()"
   ]
  },
  {
   "cell_type": "markdown",
   "metadata": {},
   "source": [
    "#### Handling the Timezone feature and modifying the start_time column according to it\n"
   ]
  },
  {
   "cell_type": "code",
   "execution_count": 45,
   "metadata": {},
   "outputs": [],
   "source": [
    "df['Start_Time'] = df['Start_Time'].dt.tz_localize('UTC')"
   ]
  },
  {
   "cell_type": "code",
   "execution_count": 46,
   "metadata": {},
   "outputs": [],
   "source": [
    "df['Start_Time'] = df['Start_Time'].dt.tz_convert('US/Central').dt.tz_localize(None)"
   ]
  },
  {
   "cell_type": "code",
   "execution_count": 47,
   "metadata": {},
   "outputs": [],
   "source": [
    "df.drop('Timezone', axis=1, inplace=True)"
   ]
  },
  {
   "cell_type": "markdown",
   "metadata": {},
   "source": [
    "#### Creating new column , for the day_category\n"
   ]
  },
  {
   "cell_type": "code",
   "execution_count": 48,
   "metadata": {},
   "outputs": [],
   "source": [
    "def day_category(time):\n",
    "    if 6 <= time.hour <= 18:\n",
    "        return 'Day'\n",
    "    elif 18 <= time.hour < 22:\n",
    "        return 'Evening'\n",
    "    else:\n",
    "        return 'Night'"
   ]
  },
  {
   "cell_type": "code",
   "execution_count": 49,
   "metadata": {},
   "outputs": [],
   "source": [
    "df['day_category'] = df['Start_Time'].apply(day_category)"
   ]
  },
  {
   "cell_type": "code",
   "execution_count": 50,
   "metadata": {},
   "outputs": [],
   "source": [
    "df['Day_type'] = df['day_category']\n",
    "df.drop('day_category', axis=1, inplace=True)"
   ]
  },
  {
   "cell_type": "markdown",
   "metadata": {},
   "source": [
    "# Analysis\n"
   ]
  },
  {
   "cell_type": "code",
   "execution_count": 51,
   "metadata": {},
   "outputs": [
    {
     "data": {
      "text/plain": [
       "Index(['Source', 'Severity', 'Start_Time', 'Street', 'City', 'County', 'State',\n",
       "       'Zipcode', 'Airport_Code', 'Temperature(F)', 'Amenity', 'Bump',\n",
       "       'Crossing', 'Give_Way', 'Junction', 'No_Exit', 'Railway', 'Roundabout',\n",
       "       'Station', 'Stop', 'Traffic_Calming', 'Traffic_Signal', 'Turning_Loop',\n",
       "       'weather_Condition', 'Day_type'],\n",
       "      dtype='object')"
      ]
     },
     "execution_count": 51,
     "metadata": {},
     "output_type": "execute_result"
    }
   ],
   "source": [
    "df.columns\n"
   ]
  },
  {
   "cell_type": "code",
   "execution_count": 52,
   "metadata": {},
   "outputs": [],
   "source": [
    "import matplotlib.pyplot as plt\n",
    "import seaborn as sns\n",
    "%matplotlib inline"
   ]
  },
  {
   "cell_type": "markdown",
   "metadata": {},
   "source": [
    "#### Numerical Analysis"
   ]
  },
  {
   "cell_type": "code",
   "execution_count": 53,
   "metadata": {},
   "outputs": [
    {
     "data": {
      "text/plain": [
       "weather_Condition\n",
       "Cloudy      2725016\n",
       "Fair        2545304\n",
       "Clear        805926\n",
       "Rain         480382\n",
       "Overcast     381777\n",
       "Snow         149418\n",
       "Fog          107063\n",
       "Windy        106787\n",
       "Haze          75546\n",
       "Name: count, dtype: int64"
      ]
     },
     "execution_count": 53,
     "metadata": {},
     "output_type": "execute_result"
    }
   ],
   "source": [
    "df['weather_Condition'].value_counts()"
   ]
  },
  {
   "cell_type": "code",
   "execution_count": 54,
   "metadata": {},
   "outputs": [
    {
     "data": {
      "text/plain": [
       "County\n",
       "Los Angeles          505691\n",
       "Miami-Dade           238176\n",
       "Orange               232095\n",
       "Harris               175779\n",
       "Dallas               152205\n",
       "                      ...  \n",
       "Oregon                    1\n",
       "Poquoson (City)           1\n",
       "Cottle                    1\n",
       "Newport News City         1\n",
       "Ness                      1\n",
       "Name: count, Length: 1856, dtype: int64"
      ]
     },
     "execution_count": 54,
     "metadata": {},
     "output_type": "execute_result"
    }
   ],
   "source": [
    "df['County'].value_counts()"
   ]
  },
  {
   "cell_type": "code",
   "execution_count": 55,
   "metadata": {},
   "outputs": [
    {
     "data": {
      "text/plain": [
       "Street\n",
       "I-95 N                  73099\n",
       "I-5 N                   70068\n",
       "I-95 S                  69205\n",
       "I-10 E                  53585\n",
       "I-10 W                  51771\n",
       "                        ...  \n",
       "Wise Women Rd               1\n",
       "30W627 Army Trail Rd        1\n",
       "Red Rock Blvd               1\n",
       "Ranchland Dr                1\n",
       "473-401 Cutoff Rd           1\n",
       "Name: count, Length: 328105, dtype: int64"
      ]
     },
     "execution_count": 55,
     "metadata": {},
     "output_type": "execute_result"
    }
   ],
   "source": [
    "df['Street'].value_counts()"
   ]
  },
  {
   "cell_type": "code",
   "execution_count": 56,
   "metadata": {},
   "outputs": [
    {
     "data": {
      "text/plain": [
       "Street\n",
       "I-95 N                  73099\n",
       "I-5 N                   70068\n",
       "I-95 S                  69205\n",
       "I-10 E                  53585\n",
       "I-10 W                  51771\n",
       "                        ...  \n",
       "Wise Women Rd               1\n",
       "30W627 Army Trail Rd        1\n",
       "Red Rock Blvd               1\n",
       "Ranchland Dr                1\n",
       "473-401 Cutoff Rd           1\n",
       "Name: count, Length: 328105, dtype: int64"
      ]
     },
     "execution_count": 56,
     "metadata": {},
     "output_type": "execute_result"
    }
   ],
   "source": [
    "df['Street'].value_counts()"
   ]
  },
  {
   "cell_type": "code",
   "execution_count": 57,
   "metadata": {},
   "outputs": [
    {
     "data": {
      "text/plain": [
       "'Miami'"
      ]
     },
     "execution_count": 57,
     "metadata": {},
     "output_type": "execute_result"
    }
   ],
   "source": [
    "df[df['Street'] == df['Street'].value_counts().index[2]]['City'].mode()[0]\n"
   ]
  },
  {
   "cell_type": "code",
   "execution_count": 58,
   "metadata": {},
   "outputs": [
    {
     "data": {
      "text/plain": [
       "'Kansas City'"
      ]
     },
     "execution_count": 58,
     "metadata": {},
     "output_type": "execute_result"
    }
   ],
   "source": [
    "df[df['Street'] == 'I-70 W']['City'].mode()[0]\n"
   ]
  },
  {
   "cell_type": "code",
   "execution_count": 59,
   "metadata": {},
   "outputs": [
    {
     "data": {
      "text/plain": [
       "Source\n",
       "Source1    4105750\n",
       "Source2    3177675\n",
       "Source3      93794\n",
       "Name: count, dtype: int64"
      ]
     },
     "execution_count": 59,
     "metadata": {},
     "output_type": "execute_result"
    }
   ],
   "source": [
    "df['Source'].value_counts()\n"
   ]
  },
  {
   "cell_type": "markdown",
   "metadata": {},
   "source": [
    "#### Severity"
   ]
  },
  {
   "cell_type": "code",
   "execution_count": 60,
   "metadata": {},
   "outputs": [
    {
     "data": {
      "text/plain": [
       "Severity\n",
       "2    5879768\n",
       "3    1240421\n",
       "4     192200\n",
       "1      64830\n",
       "Name: count, dtype: int64"
      ]
     },
     "execution_count": 60,
     "metadata": {},
     "output_type": "execute_result"
    }
   ],
   "source": [
    "df['Severity'].value_counts()"
   ]
  },
  {
   "cell_type": "code",
   "execution_count": 61,
   "metadata": {},
   "outputs": [
    {
     "data": {
      "text/plain": [
       "City\n",
       "Miami                           176538\n",
       "Houston                         164592\n",
       "Los Angeles                     154719\n",
       "Charlotte                       136365\n",
       "Dallas                          126834\n",
       "                                 ...  \n",
       "Manitowish Waters                    1\n",
       "Adolphus                             1\n",
       "Abiquiu                              1\n",
       "Glenn Heights                        1\n",
       "American Fork-Pleasant Grove         1\n",
       "Name: count, Length: 13183, dtype: int64"
      ]
     },
     "execution_count": 61,
     "metadata": {},
     "output_type": "execute_result"
    }
   ],
   "source": [
    "df['City'].value_counts()"
   ]
  },
  {
   "cell_type": "code",
   "execution_count": 62,
   "metadata": {},
   "outputs": [
    {
     "data": {
      "text/plain": [
       "State\n",
       "CA    1675779\n",
       "FL     832529\n",
       "TX     561486\n",
       "SC     366913\n",
       "NY     337713\n",
       "NC     327335\n",
       "PA     285396\n",
       "VA     277903\n",
       "MN     184202\n",
       "OR     172436\n",
       "IL     165049\n",
       "TN     162658\n",
       "AZ     162109\n",
       "GA     161430\n",
       "MI     159410\n",
       "LA     143473\n",
       "NJ     132617\n",
       "OH     114994\n",
       "MD     110168\n",
       "WA     105701\n",
       "AL      96199\n",
       "CO      87374\n",
       "UT      87264\n",
       "OK      80919\n",
       "MO      73954\n",
       "CT      69438\n",
       "IN      64839\n",
       "MA      58516\n",
       "WI      33543\n",
       "KY      31332\n",
       "NE      27979\n",
       "MT      26965\n",
       "IA      24946\n",
       "AR      21157\n",
       "NV      20812\n",
       "KS      17755\n",
       "DC      17152\n",
       "RI      16155\n",
       "MS      14376\n",
       "DE      13838\n",
       "WV      13184\n",
       "ID      10247\n",
       "NM      10038\n",
       "NH       9834\n",
       "WY       3270\n",
       "ND       3071\n",
       "ME       2610\n",
       "VT        873\n",
       "SD        278\n",
       "Name: count, dtype: int64"
      ]
     },
     "execution_count": 62,
     "metadata": {},
     "output_type": "execute_result"
    }
   ],
   "source": [
    "df['State'].value_counts()"
   ]
  },
  {
   "cell_type": "code",
   "execution_count": 63,
   "metadata": {},
   "outputs": [
    {
     "data": {
      "text/plain": [
       "13183"
      ]
     },
     "execution_count": 63,
     "metadata": {},
     "output_type": "execute_result"
    }
   ],
   "source": [
    "len(df['City'].unique())"
   ]
  },
  {
   "cell_type": "markdown",
   "metadata": {},
   "source": [
    "## Severity\n"
   ]
  },
  {
   "cell_type": "code",
   "execution_count": 64,
   "metadata": {},
   "outputs": [
    {
     "data": {
      "text/plain": [
       "City\n",
       "Atlanta         2759\n",
       "Miami           2104\n",
       "Dallas          1155\n",
       "Orlando         1074\n",
       "Houston         1073\n",
       "Columbus        1007\n",
       "Jacksonville     973\n",
       "Chicago          972\n",
       "Washington       945\n",
       "Los Angeles      928\n",
       "Name: count, dtype: int64"
      ]
     },
     "execution_count": 64,
     "metadata": {},
     "output_type": "execute_result"
    }
   ],
   "source": [
    "# Severity and City\n",
    "severe_acc = df[df['Severity']==4] #create filer\n",
    "city_count = severe_acc['City'].value_counts() #applying filter\n",
    "city_count.head(10)"
   ]
  },
  {
   "cell_type": "code",
   "execution_count": 65,
   "metadata": {},
   "outputs": [
    {
     "data": {
      "text/plain": [
       "State\n",
       "VA    16552\n",
       "PA    15136\n",
       "FL    12452\n",
       "CA    12436\n",
       "GA    12072\n",
       "NY    10456\n",
       "NC     9709\n",
       "MD     8980\n",
       "MI     7457\n",
       "CO     6998\n",
       "Name: count, dtype: int64"
      ]
     },
     "execution_count": 65,
     "metadata": {},
     "output_type": "execute_result"
    }
   ],
   "source": [
    "# Severity and State\n",
    "state_count = severe_acc['State'].value_counts()\n",
    "state_count.head(10)"
   ]
  },
  {
   "cell_type": "code",
   "execution_count": 66,
   "metadata": {},
   "outputs": [
    {
     "data": {
      "text/plain": [
       "County\n",
       "Los Angeles    3617\n",
       "Montgomery     2786\n",
       "Orange         2523\n",
       "Miami-Dade     2502\n",
       "Fulton         2393\n",
       "Maricopa       2353\n",
       "Jefferson      2223\n",
       "Washington     2093\n",
       "Cook           1887\n",
       "Franklin       1647\n",
       "Name: count, dtype: int64"
      ]
     },
     "execution_count": 66,
     "metadata": {},
     "output_type": "execute_result"
    }
   ],
   "source": [
    "# Severity and County\n",
    "county_count = severe_acc['County'].value_counts()\n",
    "county_count.head(10)"
   ]
  },
  {
   "cell_type": "code",
   "execution_count": 67,
   "metadata": {},
   "outputs": [
    {
     "data": {
      "text/plain": [
       "Street\n",
       "I-95 S    2099\n",
       "I-95 N    1873\n",
       "I-70 E    1290\n",
       "I-70 W    1080\n",
       "I-80 W    1046\n",
       "Name: count, dtype: int64"
      ]
     },
     "execution_count": 67,
     "metadata": {},
     "output_type": "execute_result"
    }
   ],
   "source": [
    "# Severity and Street\n",
    "street_count = severe_acc['Street'].value_counts()\n",
    "street_count.head(5)"
   ]
  },
  {
   "cell_type": "code",
   "execution_count": 68,
   "metadata": {},
   "outputs": [
    {
     "data": {
      "text/plain": [
       "Day_type\n",
       "Day        4384714\n",
       "Night      2719323\n",
       "Evening     273182\n",
       "Name: count, dtype: int64"
      ]
     },
     "execution_count": 68,
     "metadata": {},
     "output_type": "execute_result"
    }
   ],
   "source": [
    "# Severity and day_Category\n",
    "df['Day_type'].value_counts()"
   ]
  },
  {
   "cell_type": "code",
   "execution_count": 69,
   "metadata": {},
   "outputs": [
    {
     "data": {
      "text/plain": [
       "weather_Condition\n",
       "Cloudy      67610\n",
       "Fair        59286\n",
       "Clear       26364\n",
       "Overcast    13795\n",
       "Rain        12510\n",
       "Name: count, dtype: int64"
      ]
     },
     "execution_count": 69,
     "metadata": {},
     "output_type": "execute_result"
    }
   ],
   "source": [
    "# Severity and weather condition\n",
    "weather_count = severe_acc['weather_Condition'].value_counts()\n",
    "weather_count.head()"
   ]
  },
  {
   "cell_type": "code",
   "execution_count": 70,
   "metadata": {},
   "outputs": [
    {
     "data": {
      "text/plain": [
       "Temperature(F)\n",
       "73.0    3981\n",
       "72.0    3871\n",
       "68.0    3833\n",
       "77.0    3760\n",
       "75.0    3683\n",
       "Name: count, dtype: int64"
      ]
     },
     "execution_count": 70,
     "metadata": {},
     "output_type": "execute_result"
    }
   ],
   "source": [
    "# Severity and weather condition\n",
    "temp_count = severe_acc['Temperature(F)'].value_counts()\n",
    "temp_count.head()"
   ]
  },
  {
   "cell_type": "markdown",
   "metadata": {},
   "source": [
    "### Visualization - Severity"
   ]
  },
  {
   "cell_type": "code",
   "execution_count": 73,
   "metadata": {},
   "outputs": [],
   "source": [
    "import seaborn as sns\n",
    "import matplotlib.pyplot as plt\n",
    "%matplotlib inline"
   ]
  },
  {
   "cell_type": "code",
   "execution_count": 76,
   "metadata": {},
   "outputs": [
    {
     "data": {
      "text/plain": [
       "(array([0, 1, 2, 3, 4, 5, 6, 7, 8, 9]),\n",
       " [Text(0, 0, 'Los Angeles'),\n",
       "  Text(1, 0, 'Miami'),\n",
       "  Text(2, 0, 'Orlando'),\n",
       "  Text(3, 0, 'Dallas'),\n",
       "  Text(4, 0, 'Charlotte'),\n",
       "  Text(5, 0, 'Austin'),\n",
       "  Text(6, 0, 'Houston'),\n",
       "  Text(7, 0, 'Baton Rouge'),\n",
       "  Text(8, 0, 'Nashville'),\n",
       "  Text(9, 0, 'Raleigh')])"
      ]
     },
     "execution_count": 76,
     "metadata": {},
     "output_type": "execute_result"
    },
    {
     "data": {
      "image/png": "[encoded data removed]",
      "text/plain": [
       "<Figure size 1000x600 with 1 Axes>"
      ]
     },
     "metadata": {},
     "output_type": "display_data"
    }
   ],
   "source": [
    "top_cities = df['City'].value_counts().index[:10]\n",
    "plt.figure(figsize=(10, 6))  # Adjust the size as needed\n",
    "sns.countplot(x='City', hue='Severity', data=df[df['City'].isin(top_cities)])\n",
    "plt.xticks(rotation=90)\n",
    "\n"
   ]
  },
  {
   "cell_type": "code",
   "execution_count": 77,
   "metadata": {},
   "outputs": [],
   "source": [
    "import geopandas as gpd"
   ]
  },
  {
   "cell_type": "markdown",
   "metadata": {},
   "source": [
    "#### Real world data comparison\n"
   ]
  },
  {
   "cell_type": "markdown",
   "metadata": {},
   "source": [
    "1. ### Insights from State and City Data\n",
    "1. CA(California) have most accidents.(approx 1.75 Million)\n",
    "- Reason : CA has highest population\n",
    "2. SD(South Dakota) have Lowest number of accidents(approx 300)\n",
    "- Reason : very low population (46th most populated of 50 states)\n",
    "3. 1023 Cities having lowest/only 1 accident reported \n",
    "- Reason : Since most of the US cities have very less population\n",
    "4. Miami has most number of accidents \n",
    "- "
   ]
  },
  {
   "cell_type": "markdown",
   "metadata": {},
   "source": []
  }
 ],
 "metadata": {
  "kernelspec": {
   "display_name": "Python 3",
   "language": "python",
   "name": "python3"
  },
  "language_info": {
   "codemirror_mode": {
    "name": "ipython",
    "version": 3
   },
   "file_extension": ".py",
   "mimetype": "text/x-python",
   "name": "python",
   "nbconvert_exporter": "python",
   "pygments_lexer": "ipython3",
   "version": "3.10.6"
  },
  "orig_nbformat": 4
 },
 "nbformat": 4,
 "nbformat_minor": 2
}
